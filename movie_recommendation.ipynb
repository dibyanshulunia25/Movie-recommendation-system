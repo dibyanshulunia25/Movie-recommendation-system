{
 "cells": [
  {
   "cell_type": "code",
   "execution_count": 92,
   "id": "6fa746ca",
   "metadata": {},
   "outputs": [],
   "source": [
    "import numpy as np\n",
    "import pandas as pd \n",
    "import matplotlib.pyplot as plt\n",
    "import seaborn as sns\n",
    "from sklearn.cluster import KMeans\n",
    "from sklearn.preprocessing import StandardScaler\n",
    "from sklearn.model_selection import train_test_split,GridSearchCV\n",
    "from sklearn.ensemble import RandomForestClassifier\n",
    "from sklearn.linear_model import LogisticRegression\n",
    "from sklearn.decomposition import PCA\n",
    "from sklearn.metrics import classification_report,confusion_matrix\n",
    "from imblearn.over_sampling import SMOTE\n",
    "from scipy.sparse import csr_matrix"
   ]
  },
  {
   "cell_type": "markdown",
   "id": "5fb8bf68",
   "metadata": {},
   "source": [
    "# Load the dataset"
   ]
  },
  {
   "cell_type": "code",
   "execution_count": 93,
   "id": "13ae3835",
   "metadata": {},
   "outputs": [
    {
     "name": "stdout",
     "output_type": "stream",
     "text": [
      "   movieId             title                                       genres  \\\n",
      "0        1  Toy Story (1995)  Adventure|Animation|Children|Comedy|Fantasy   \n",
      "1        1  Toy Story (1995)  Adventure|Animation|Children|Comedy|Fantasy   \n",
      "2        1  Toy Story (1995)  Adventure|Animation|Children|Comedy|Fantasy   \n",
      "3        1  Toy Story (1995)  Adventure|Animation|Children|Comedy|Fantasy   \n",
      "4        1  Toy Story (1995)  Adventure|Animation|Children|Comedy|Fantasy   \n",
      "\n",
      "   userId  rating            timestamp  \n",
      "0       3     4.0  1999-12-11 13:36:47  \n",
      "1       6     5.0  1997-03-13 17:50:52  \n",
      "2       8     4.0  1996-06-05 13:37:51  \n",
      "3      10     4.0  1999-11-25 02:44:47  \n",
      "4      11     4.5  2009-01-02 01:13:41  \n"
     ]
    }
   ],
   "source": [
    "ratings = pd.read_csv(\"archive\\\\rating.csv\",nrows=10000)\n",
    "movies=pd.read_csv(\"archive\\\\movie.csv\",nrows=10000)\n",
    "\n",
    "# Merging dataset movies and ratings on movieId\n",
    "df=pd.merge(movies,ratings,on='movieId')\n",
    "print(df.head())"
   ]
  },
  {
   "cell_type": "markdown",
   "id": "44dbe53d",
   "metadata": {},
   "source": [
    "# Exploratory Data Analysis"
   ]
  },
  {
   "cell_type": "code",
   "execution_count": 94,
   "id": "83f331dc",
   "metadata": {},
   "outputs": [
    {
     "data": {
      "text/plain": [
       "(9273, 6)"
      ]
     },
     "execution_count": 94,
     "metadata": {},
     "output_type": "execute_result"
    }
   ],
   "source": [
    "df.shape"
   ]
  },
  {
   "cell_type": "code",
   "execution_count": 95,
   "id": "a393c843",
   "metadata": {},
   "outputs": [
    {
     "data": {
      "text/plain": [
       "55638"
      ]
     },
     "execution_count": 95,
     "metadata": {},
     "output_type": "execute_result"
    }
   ],
   "source": [
    "df.size"
   ]
  },
  {
   "cell_type": "code",
   "execution_count": 96,
   "id": "9f01a23c",
   "metadata": {},
   "outputs": [
    {
     "data": {
      "text/plain": [
       "Index(['movieId', 'title', 'genres', 'userId', 'rating', 'timestamp'], dtype='object')"
      ]
     },
     "execution_count": 96,
     "metadata": {},
     "output_type": "execute_result"
    }
   ],
   "source": [
    "df.columns"
   ]
  },
  {
   "cell_type": "code",
   "execution_count": 97,
   "id": "c38e6b9e",
   "metadata": {},
   "outputs": [
    {
     "name": "stdout",
     "output_type": "stream",
     "text": [
      "<class 'pandas.core.frame.DataFrame'>\n",
      "RangeIndex: 9273 entries, 0 to 9272\n",
      "Data columns (total 6 columns):\n",
      " #   Column     Non-Null Count  Dtype  \n",
      "---  ------     --------------  -----  \n",
      " 0   movieId    9273 non-null   int64  \n",
      " 1   title      9273 non-null   object \n",
      " 2   genres     9273 non-null   object \n",
      " 3   userId     9273 non-null   int64  \n",
      " 4   rating     9273 non-null   float64\n",
      " 5   timestamp  9273 non-null   object \n",
      "dtypes: float64(1), int64(2), object(3)\n",
      "memory usage: 434.8+ KB\n"
     ]
    }
   ],
   "source": [
    "df.info()"
   ]
  },
  {
   "cell_type": "code",
   "execution_count": 98,
   "id": "ca90a172",
   "metadata": {},
   "outputs": [
    {
     "data": {
      "text/html": [
       "<div>\n",
       "<style scoped>\n",
       "    .dataframe tbody tr th:only-of-type {\n",
       "        vertical-align: middle;\n",
       "    }\n",
       "\n",
       "    .dataframe tbody tr th {\n",
       "        vertical-align: top;\n",
       "    }\n",
       "\n",
       "    .dataframe thead th {\n",
       "        text-align: right;\n",
       "    }\n",
       "</style>\n",
       "<table border=\"1\" class=\"dataframe\">\n",
       "  <thead>\n",
       "    <tr style=\"text-align: right;\">\n",
       "      <th></th>\n",
       "      <th>movieId</th>\n",
       "      <th>userId</th>\n",
       "      <th>rating</th>\n",
       "    </tr>\n",
       "  </thead>\n",
       "  <tbody>\n",
       "    <tr>\n",
       "      <th>count</th>\n",
       "      <td>9273.000000</td>\n",
       "      <td>9273.000000</td>\n",
       "      <td>9273.000000</td>\n",
       "    </tr>\n",
       "    <tr>\n",
       "      <th>mean</th>\n",
       "      <td>2250.879974</td>\n",
       "      <td>45.311981</td>\n",
       "      <td>3.632643</td>\n",
       "    </tr>\n",
       "    <tr>\n",
       "      <th>std</th>\n",
       "      <td>3225.147611</td>\n",
       "      <td>26.470152</td>\n",
       "      <td>1.041386</td>\n",
       "    </tr>\n",
       "    <tr>\n",
       "      <th>min</th>\n",
       "      <td>1.000000</td>\n",
       "      <td>1.000000</td>\n",
       "      <td>0.500000</td>\n",
       "    </tr>\n",
       "    <tr>\n",
       "      <th>25%</th>\n",
       "      <td>549.000000</td>\n",
       "      <td>23.000000</td>\n",
       "      <td>3.000000</td>\n",
       "    </tr>\n",
       "    <tr>\n",
       "      <th>50%</th>\n",
       "      <td>1393.000000</td>\n",
       "      <td>50.000000</td>\n",
       "      <td>4.000000</td>\n",
       "    </tr>\n",
       "    <tr>\n",
       "      <th>75%</th>\n",
       "      <td>2944.000000</td>\n",
       "      <td>65.000000</td>\n",
       "      <td>4.500000</td>\n",
       "    </tr>\n",
       "    <tr>\n",
       "      <th>max</th>\n",
       "      <td>32587.000000</td>\n",
       "      <td>91.000000</td>\n",
       "      <td>5.000000</td>\n",
       "    </tr>\n",
       "  </tbody>\n",
       "</table>\n",
       "</div>"
      ],
      "text/plain": [
       "            movieId       userId       rating\n",
       "count   9273.000000  9273.000000  9273.000000\n",
       "mean    2250.879974    45.311981     3.632643\n",
       "std     3225.147611    26.470152     1.041386\n",
       "min        1.000000     1.000000     0.500000\n",
       "25%      549.000000    23.000000     3.000000\n",
       "50%     1393.000000    50.000000     4.000000\n",
       "75%     2944.000000    65.000000     4.500000\n",
       "max    32587.000000    91.000000     5.000000"
      ]
     },
     "execution_count": 98,
     "metadata": {},
     "output_type": "execute_result"
    }
   ],
   "source": [
    "df.describe()"
   ]
  },
  {
   "cell_type": "code",
   "execution_count": 99,
   "id": "83c77c56",
   "metadata": {},
   "outputs": [
    {
     "data": {
      "text/plain": [
       "movieId      0\n",
       "title        0\n",
       "genres       0\n",
       "userId       0\n",
       "rating       0\n",
       "timestamp    0\n",
       "dtype: int64"
      ]
     },
     "execution_count": 99,
     "metadata": {},
     "output_type": "execute_result"
    }
   ],
   "source": [
    "df.isnull().sum()"
   ]
  },
  {
   "cell_type": "code",
   "execution_count": 100,
   "id": "3a916942",
   "metadata": {},
   "outputs": [
    {
     "data": {
      "text/plain": [
       "movieId      0\n",
       "title        0\n",
       "genres       0\n",
       "userId       0\n",
       "rating       0\n",
       "timestamp    0\n",
       "dtype: int64"
      ]
     },
     "execution_count": 100,
     "metadata": {},
     "output_type": "execute_result"
    }
   ],
   "source": [
    "df.isna().sum()"
   ]
  },
  {
   "cell_type": "code",
   "execution_count": 101,
   "id": "6a1669d8",
   "metadata": {},
   "outputs": [
    {
     "data": {
      "text/html": [
       "<div>\n",
       "<style scoped>\n",
       "    .dataframe tbody tr th:only-of-type {\n",
       "        vertical-align: middle;\n",
       "    }\n",
       "\n",
       "    .dataframe tbody tr th {\n",
       "        vertical-align: top;\n",
       "    }\n",
       "\n",
       "    .dataframe thead th {\n",
       "        text-align: right;\n",
       "    }\n",
       "</style>\n",
       "<table border=\"1\" class=\"dataframe\">\n",
       "  <thead>\n",
       "    <tr style=\"text-align: right;\">\n",
       "      <th></th>\n",
       "      <th>movieId</th>\n",
       "      <th>title</th>\n",
       "      <th>genres</th>\n",
       "      <th>userId</th>\n",
       "      <th>rating</th>\n",
       "      <th>timestamp</th>\n",
       "    </tr>\n",
       "  </thead>\n",
       "  <tbody>\n",
       "    <tr>\n",
       "      <th>0</th>\n",
       "      <td>1</td>\n",
       "      <td>Toy Story (1995)</td>\n",
       "      <td>Adventure|Animation|Children|Comedy|Fantasy</td>\n",
       "      <td>3</td>\n",
       "      <td>4.0</td>\n",
       "      <td>1999-12-11 13:36:47</td>\n",
       "    </tr>\n",
       "    <tr>\n",
       "      <th>1</th>\n",
       "      <td>1</td>\n",
       "      <td>Toy Story (1995)</td>\n",
       "      <td>Adventure|Animation|Children|Comedy|Fantasy</td>\n",
       "      <td>6</td>\n",
       "      <td>5.0</td>\n",
       "      <td>1997-03-13 17:50:52</td>\n",
       "    </tr>\n",
       "    <tr>\n",
       "      <th>2</th>\n",
       "      <td>1</td>\n",
       "      <td>Toy Story (1995)</td>\n",
       "      <td>Adventure|Animation|Children|Comedy|Fantasy</td>\n",
       "      <td>8</td>\n",
       "      <td>4.0</td>\n",
       "      <td>1996-06-05 13:37:51</td>\n",
       "    </tr>\n",
       "    <tr>\n",
       "      <th>3</th>\n",
       "      <td>1</td>\n",
       "      <td>Toy Story (1995)</td>\n",
       "      <td>Adventure|Animation|Children|Comedy|Fantasy</td>\n",
       "      <td>10</td>\n",
       "      <td>4.0</td>\n",
       "      <td>1999-11-25 02:44:47</td>\n",
       "    </tr>\n",
       "    <tr>\n",
       "      <th>4</th>\n",
       "      <td>1</td>\n",
       "      <td>Toy Story (1995)</td>\n",
       "      <td>Adventure|Animation|Children|Comedy|Fantasy</td>\n",
       "      <td>11</td>\n",
       "      <td>4.5</td>\n",
       "      <td>2009-01-02 01:13:41</td>\n",
       "    </tr>\n",
       "    <tr>\n",
       "      <th>...</th>\n",
       "      <td>...</td>\n",
       "      <td>...</td>\n",
       "      <td>...</td>\n",
       "      <td>...</td>\n",
       "      <td>...</td>\n",
       "      <td>...</td>\n",
       "    </tr>\n",
       "    <tr>\n",
       "      <th>9268</th>\n",
       "      <td>32031</td>\n",
       "      <td>Robots (2005)</td>\n",
       "      <td>Adventure|Animation|Children|Comedy|Fantasy|Sc...</td>\n",
       "      <td>31</td>\n",
       "      <td>4.0</td>\n",
       "      <td>2015-02-23 23:54:40</td>\n",
       "    </tr>\n",
       "    <tr>\n",
       "      <th>9269</th>\n",
       "      <td>32213</td>\n",
       "      <td>Cube Zero (2004)</td>\n",
       "      <td>Horror|Mystery|Sci-Fi|Thriller</td>\n",
       "      <td>11</td>\n",
       "      <td>4.5</td>\n",
       "      <td>2009-01-01 05:33:35</td>\n",
       "    </tr>\n",
       "    <tr>\n",
       "      <th>9270</th>\n",
       "      <td>32587</td>\n",
       "      <td>Sin City (2005)</td>\n",
       "      <td>Action|Crime|Film-Noir|Mystery|Thriller</td>\n",
       "      <td>35</td>\n",
       "      <td>5.0</td>\n",
       "      <td>2008-03-28 17:10:17</td>\n",
       "    </tr>\n",
       "    <tr>\n",
       "      <th>9271</th>\n",
       "      <td>32587</td>\n",
       "      <td>Sin City (2005)</td>\n",
       "      <td>Action|Crime|Film-Noir|Mystery|Thriller</td>\n",
       "      <td>43</td>\n",
       "      <td>3.5</td>\n",
       "      <td>2009-04-09 20:29:22</td>\n",
       "    </tr>\n",
       "    <tr>\n",
       "      <th>9272</th>\n",
       "      <td>32587</td>\n",
       "      <td>Sin City (2005)</td>\n",
       "      <td>Action|Crime|Film-Noir|Mystery|Thriller</td>\n",
       "      <td>58</td>\n",
       "      <td>4.5</td>\n",
       "      <td>2006-04-03 10:52:19</td>\n",
       "    </tr>\n",
       "  </tbody>\n",
       "</table>\n",
       "<p>9273 rows × 6 columns</p>\n",
       "</div>"
      ],
      "text/plain": [
       "      movieId             title  \\\n",
       "0           1  Toy Story (1995)   \n",
       "1           1  Toy Story (1995)   \n",
       "2           1  Toy Story (1995)   \n",
       "3           1  Toy Story (1995)   \n",
       "4           1  Toy Story (1995)   \n",
       "...       ...               ...   \n",
       "9268    32031     Robots (2005)   \n",
       "9269    32213  Cube Zero (2004)   \n",
       "9270    32587   Sin City (2005)   \n",
       "9271    32587   Sin City (2005)   \n",
       "9272    32587   Sin City (2005)   \n",
       "\n",
       "                                                 genres  userId  rating  \\\n",
       "0           Adventure|Animation|Children|Comedy|Fantasy       3     4.0   \n",
       "1           Adventure|Animation|Children|Comedy|Fantasy       6     5.0   \n",
       "2           Adventure|Animation|Children|Comedy|Fantasy       8     4.0   \n",
       "3           Adventure|Animation|Children|Comedy|Fantasy      10     4.0   \n",
       "4           Adventure|Animation|Children|Comedy|Fantasy      11     4.5   \n",
       "...                                                 ...     ...     ...   \n",
       "9268  Adventure|Animation|Children|Comedy|Fantasy|Sc...      31     4.0   \n",
       "9269                     Horror|Mystery|Sci-Fi|Thriller      11     4.5   \n",
       "9270            Action|Crime|Film-Noir|Mystery|Thriller      35     5.0   \n",
       "9271            Action|Crime|Film-Noir|Mystery|Thriller      43     3.5   \n",
       "9272            Action|Crime|Film-Noir|Mystery|Thriller      58     4.5   \n",
       "\n",
       "                timestamp  \n",
       "0     1999-12-11 13:36:47  \n",
       "1     1997-03-13 17:50:52  \n",
       "2     1996-06-05 13:37:51  \n",
       "3     1999-11-25 02:44:47  \n",
       "4     2009-01-02 01:13:41  \n",
       "...                   ...  \n",
       "9268  2015-02-23 23:54:40  \n",
       "9269  2009-01-01 05:33:35  \n",
       "9270  2008-03-28 17:10:17  \n",
       "9271  2009-04-09 20:29:22  \n",
       "9272  2006-04-03 10:52:19  \n",
       "\n",
       "[9273 rows x 6 columns]"
      ]
     },
     "execution_count": 101,
     "metadata": {},
     "output_type": "execute_result"
    }
   ],
   "source": [
    "df"
   ]
  },
  {
   "cell_type": "markdown",
   "id": "5501912a",
   "metadata": {},
   "source": [
    "# Creating user movie matrix for Clustering"
   ]
  },
  {
   "cell_type": "code",
   "execution_count": 102,
   "id": "f278353e",
   "metadata": {},
   "outputs": [
    {
     "name": "stdout",
     "output_type": "stream",
     "text": [
      "title   'burbs, The (1989)  'night Mother (1986)  \\\n",
      "userId                                             \n",
      "1                      0.0                   0.0   \n",
      "2                      0.0                   0.0   \n",
      "3                      0.0                   0.0   \n",
      "4                      0.0                   0.0   \n",
      "5                      0.0                   0.0   \n",
      "...                    ...                   ...   \n",
      "87                     0.0                   0.0   \n",
      "88                     0.0                   0.0   \n",
      "89                     0.0                   0.0   \n",
      "90                     0.0                   0.0   \n",
      "91                     0.0                   0.0   \n",
      "\n",
      "title   *batteries not included (1987)  ...And Justice for All (1979)  \\\n",
      "userId                                                                  \n",
      "1                                  0.0                            0.0   \n",
      "2                                  0.0                            0.0   \n",
      "3                                  0.0                            0.0   \n",
      "4                                  0.0                            0.0   \n",
      "5                                  0.0                            0.0   \n",
      "...                                ...                            ...   \n",
      "87                                 0.0                            0.0   \n",
      "88                                 0.0                            0.0   \n",
      "89                                 0.0                            0.0   \n",
      "90                                 0.0                            0.0   \n",
      "91                                 0.0                            0.0   \n",
      "\n",
      "title   10 Things I Hate About You (1999)  100 Girls (2000)  \\\n",
      "userId                                                        \n",
      "1                                     0.0               0.0   \n",
      "2                                     0.0               0.0   \n",
      "3                                     0.0               0.0   \n",
      "4                                     0.0               0.0   \n",
      "5                                     0.0               0.0   \n",
      "...                                   ...               ...   \n",
      "87                                    0.0               0.0   \n",
      "88                                    0.0               0.0   \n",
      "89                                    0.0               0.0   \n",
      "90                                    0.0               0.0   \n",
      "91                                    3.5               0.0   \n",
      "\n",
      "title   101 Dalmatians (1996)  \\\n",
      "userId                          \n",
      "1                         0.0   \n",
      "2                         0.0   \n",
      "3                         0.0   \n",
      "4                         0.0   \n",
      "5                         0.0   \n",
      "...                       ...   \n",
      "87                        0.0   \n",
      "88                        0.0   \n",
      "89                        0.0   \n",
      "90                        0.0   \n",
      "91                        0.0   \n",
      "\n",
      "title   101 Dalmatians (One Hundred and One Dalmatians) (1961)  \\\n",
      "userId                                                           \n",
      "1                                                     0.0        \n",
      "2                                                     0.0        \n",
      "3                                                     0.0        \n",
      "4                                                     0.0        \n",
      "5                                                     0.0        \n",
      "...                                                   ...        \n",
      "87                                                    0.0        \n",
      "88                                                    0.0        \n",
      "89                                                    0.0        \n",
      "90                                                    0.0        \n",
      "91                                                    0.0        \n",
      "\n",
      "title   102 Dalmatians (2000)  12 Angry Men (1957)  ...  \\\n",
      "userId                                              ...   \n",
      "1                         0.0                  0.0  ...   \n",
      "2                         0.0                  0.0  ...   \n",
      "3                         0.0                  0.0  ...   \n",
      "4                         0.0                  0.0  ...   \n",
      "5                         0.0                  0.0  ...   \n",
      "...                       ...                  ...  ...   \n",
      "87                        0.0                  0.0  ...   \n",
      "88                        0.0                  0.0  ...   \n",
      "89                        0.0                  0.0  ...   \n",
      "90                        0.0                  0.0  ...   \n",
      "91                        0.0                  0.0  ...   \n",
      "\n",
      "title   You've Got Mail (1998)  Young Doctors in Love (1982)  \\\n",
      "userId                                                         \n",
      "1                          0.0                           0.0   \n",
      "2                          0.0                           0.0   \n",
      "3                          0.0                           0.0   \n",
      "4                          0.0                           0.0   \n",
      "5                          0.0                           0.0   \n",
      "...                        ...                           ...   \n",
      "87                         0.0                           0.0   \n",
      "88                         0.0                           0.0   \n",
      "89                         0.0                           0.0   \n",
      "90                         0.0                           0.0   \n",
      "91                         2.5                           0.0   \n",
      "\n",
      "title   Young Frankenstein (1974)  Young Guns (1988)  Young Guns II (1990)  \\\n",
      "userId                                                                       \n",
      "1                             4.0                0.0                   0.0   \n",
      "2                             0.0                0.0                   0.0   \n",
      "3                             5.0                0.0                   0.0   \n",
      "4                             0.0                0.0                   0.0   \n",
      "5                             0.0                0.0                   0.0   \n",
      "...                           ...                ...                   ...   \n",
      "87                            0.0                0.0                   0.0   \n",
      "88                            0.0                0.0                   0.0   \n",
      "89                            0.0                0.0                   0.0   \n",
      "90                            0.0                0.0                   0.0   \n",
      "91                            3.5                3.5                   0.0   \n",
      "\n",
      "title   Young Sherlock Holmes (1985)  Zero Effect (1998)  Zoolander (2001)  \\\n",
      "userId                                                                       \n",
      "1                                0.0                 0.0               0.0   \n",
      "2                                0.0                 0.0               0.0   \n",
      "3                                0.0                 0.0               0.0   \n",
      "4                                0.0                 0.0               0.0   \n",
      "5                                0.0                 0.0               0.0   \n",
      "...                              ...                 ...               ...   \n",
      "87                               0.0                 0.0               0.0   \n",
      "88                               0.0                 0.0               0.0   \n",
      "89                               0.0                 0.0               0.0   \n",
      "90                               0.0                 0.0               0.0   \n",
      "91                               3.0                 0.0               0.0   \n",
      "\n",
      "title   eXistenZ (1999)  ¡Three Amigos! (1986)  \n",
      "userId                                          \n",
      "1                   0.0                    0.0  \n",
      "2                   0.0                    0.0  \n",
      "3                   0.0                    0.0  \n",
      "4                   0.0                    0.0  \n",
      "5                   0.0                    0.0  \n",
      "...                 ...                    ...  \n",
      "87                  0.0                    0.0  \n",
      "88                  0.0                    0.0  \n",
      "89                  0.0                    0.0  \n",
      "90                  0.0                    0.0  \n",
      "91                  0.0                    0.0  \n",
      "\n",
      "[91 rows x 2412 columns]\n"
     ]
    }
   ],
   "source": [
    "user_movie_matrix=df.pivot_table(index='userId',columns='title',values='rating').fillna(0)\n",
    "print(user_movie_matrix)\n",
    "ss=StandardScaler()\n",
    "scaled_user_movie_matrix=ss.fit_transform(user_movie_matrix)"
   ]
  },
  {
   "cell_type": "markdown",
   "id": "b23091e6",
   "metadata": {},
   "source": [
    "# Kmeans Clustering"
   ]
  },
  {
   "cell_type": "code",
   "execution_count": 103,
   "id": "380de021",
   "metadata": {},
   "outputs": [
    {
     "name": "stderr",
     "output_type": "stream",
     "text": [
      "c:\\Users\\Dibyanshu\\anaconda3\\Lib\\site-packages\\sklearn\\cluster\\_kmeans.py:1446: UserWarning: KMeans is known to have a memory leak on Windows with MKL, when there are less chunks than available threads. You can avoid it by setting the environment variable OMP_NUM_THREADS=1.\n",
      "  warnings.warn(\n"
     ]
    },
    {
     "name": "stdout",
     "output_type": "stream",
     "text": [
      "[0 0 0 0 0 0 0 0 0 0 4 0 0 0 0 0 0 0 0 0 0 0 0 1 0 0 0 0 4 0 0 0 0 0 0 0 0\n",
      " 0 0 0 0 0 0 0 0 0 0 0 0 0 0 0 0 2 0 0 0 3 0 0 0 0 0 0 0 0 0 0 4 0 0 0 0 0\n",
      " 0 0 0 0 0 0 0 0 0 0 0 0 0 0 0 0 4]\n",
      "      movieId             title  \\\n",
      "0           1  Toy Story (1995)   \n",
      "1           1  Toy Story (1995)   \n",
      "2           1  Toy Story (1995)   \n",
      "3           1  Toy Story (1995)   \n",
      "4           1  Toy Story (1995)   \n",
      "...       ...               ...   \n",
      "9268    32031     Robots (2005)   \n",
      "9269    32213  Cube Zero (2004)   \n",
      "9270    32587   Sin City (2005)   \n",
      "9271    32587   Sin City (2005)   \n",
      "9272    32587   Sin City (2005)   \n",
      "\n",
      "                                                 genres  userId  rating  \\\n",
      "0           Adventure|Animation|Children|Comedy|Fantasy       3     4.0   \n",
      "1           Adventure|Animation|Children|Comedy|Fantasy       6     5.0   \n",
      "2           Adventure|Animation|Children|Comedy|Fantasy       8     4.0   \n",
      "3           Adventure|Animation|Children|Comedy|Fantasy      10     4.0   \n",
      "4           Adventure|Animation|Children|Comedy|Fantasy      11     4.5   \n",
      "...                                                 ...     ...     ...   \n",
      "9268  Adventure|Animation|Children|Comedy|Fantasy|Sc...      31     4.0   \n",
      "9269                     Horror|Mystery|Sci-Fi|Thriller      11     4.5   \n",
      "9270            Action|Crime|Film-Noir|Mystery|Thriller      35     5.0   \n",
      "9271            Action|Crime|Film-Noir|Mystery|Thriller      43     3.5   \n",
      "9272            Action|Crime|Film-Noir|Mystery|Thriller      58     4.5   \n",
      "\n",
      "                timestamp  cluster  \n",
      "0     1999-12-11 13:36:47        0  \n",
      "1     1997-03-13 17:50:52        0  \n",
      "2     1996-06-05 13:37:51        0  \n",
      "3     1999-11-25 02:44:47        0  \n",
      "4     2009-01-02 01:13:41        4  \n",
      "...                   ...      ...  \n",
      "9268  2015-02-23 23:54:40        0  \n",
      "9269  2009-01-01 05:33:35        4  \n",
      "9270  2008-03-28 17:10:17        0  \n",
      "9271  2009-04-09 20:29:22        0  \n",
      "9272  2006-04-03 10:52:19        3  \n",
      "\n",
      "[9273 rows x 7 columns]\n"
     ]
    }
   ],
   "source": [
    "kmeans=KMeans(n_clusters=5,random_state=42,n_init=10)\n",
    "user_clusters=kmeans.fit_predict(scaled_user_movie_matrix)\n",
    "print(user_clusters)\n",
    "user_movie_matrix['cluster']=user_clusters\n",
    "df=df.merge(user_movie_matrix['cluster'],on='userId')\n",
    "print(df)"
   ]
  },
  {
   "cell_type": "markdown",
   "id": "f3cdee49",
   "metadata": {},
   "source": [
    "# Creating Like label"
   ]
  },
  {
   "cell_type": "code",
   "execution_count": 104,
   "id": "7e92aad0",
   "metadata": {},
   "outputs": [],
   "source": [
    "df['liked']=(df['rating']>=4).astype(int)"
   ]
  },
  {
   "cell_type": "markdown",
   "id": "56c990b6",
   "metadata": {},
   "source": [
    "# Feature Engineering"
   ]
  },
  {
   "cell_type": "markdown",
   "id": "d9c53fff",
   "metadata": {},
   "source": [
    "# Classification model (RandomForestClassifier)"
   ]
  },
  {
   "cell_type": "code",
   "execution_count": 105,
   "id": "2a98d790",
   "metadata": {},
   "outputs": [
    {
     "ename": "NameError",
     "evalue": "name 'y_' is not defined",
     "output_type": "error",
     "traceback": [
      "\u001b[1;31m---------------------------------------------------------------------------\u001b[0m",
      "\u001b[1;31mNameError\u001b[0m                                 Traceback (most recent call last)",
      "Cell \u001b[1;32mIn[105], line 1\u001b[0m\n\u001b[1;32m----> 1\u001b[0m \u001b[38;5;28mprint\u001b[39m(\u001b[38;5;124m\"\u001b[39m\u001b[38;5;124mClassification report:\u001b[39m\u001b[38;5;130;01m\\n\u001b[39;00m\u001b[38;5;130;01m\\n\u001b[39;00m\u001b[38;5;124m\"\u001b[39m,classification_report(y_))\n",
      "\u001b[1;31mNameError\u001b[0m: name 'y_' is not defined"
     ]
    }
   ],
   "source": [
    "print(\"Classification report:\\n\\n\",classification_report(y_))"
   ]
  }
 ],
 "metadata": {
  "kernelspec": {
   "display_name": "base",
   "language": "python",
   "name": "python3"
  },
  "language_info": {
   "codemirror_mode": {
    "name": "ipython",
    "version": 3
   },
   "file_extension": ".py",
   "mimetype": "text/x-python",
   "name": "python",
   "nbconvert_exporter": "python",
   "pygments_lexer": "ipython3",
   "version": "3.12.4"
  }
 },
 "nbformat": 4,
 "nbformat_minor": 5
}
