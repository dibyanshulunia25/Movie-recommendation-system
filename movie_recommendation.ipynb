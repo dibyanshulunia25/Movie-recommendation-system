{
 "cells": [
  {
   "cell_type": "code",
   "execution_count": 2,
   "id": "6fa746ca",
   "metadata": {},
   "outputs": [],
   "source": [
    "import numpy as np\n",
    "import pandas as pd \n",
    "import matplotlib.pyplot as plt\n",
    "import seaborn as sns\n",
    "from sklearn.cluster import KMeans\n",
    "from sklearn.preprocessing import StandardScaler\n",
    "from sklearn.model_selection import train_test_split,GridSearchCV\n",
    "from sklearn.ensemble import RandomForestClassifier\n",
    "from sklearn.linear_model import LogisticRegression\n",
    "from sklearn.decomposition import PCA\n",
    "from sklearn.metrics import classification_report,confusion_matrix\n",
    "from imblearn.over_sampling import SMOTE\n",
    "from scipy.sparse import csr_matrix"
   ]
  },
  {
   "cell_type": "markdown",
   "id": "5fb8bf68",
   "metadata": {},
   "source": [
    "# Load the dataset"
   ]
  },
  {
   "cell_type": "code",
   "execution_count": 3,
   "id": "13ae3835",
   "metadata": {},
   "outputs": [
    {
     "name": "stdout",
     "output_type": "stream",
     "text": [
      "   movieId             title                                       genres  \\\n",
      "0        1  Toy Story (1995)  Adventure|Animation|Children|Comedy|Fantasy   \n",
      "1        1  Toy Story (1995)  Adventure|Animation|Children|Comedy|Fantasy   \n",
      "2        1  Toy Story (1995)  Adventure|Animation|Children|Comedy|Fantasy   \n",
      "3        1  Toy Story (1995)  Adventure|Animation|Children|Comedy|Fantasy   \n",
      "4        1  Toy Story (1995)  Adventure|Animation|Children|Comedy|Fantasy   \n",
      "\n",
      "   userId  rating            timestamp  \n",
      "0       3     4.0  1999-12-11 13:36:47  \n",
      "1       6     5.0  1997-03-13 17:50:52  \n",
      "2       8     4.0  1996-06-05 13:37:51  \n",
      "3      10     4.0  1999-11-25 02:44:47  \n",
      "4      11     4.5  2009-01-02 01:13:41  \n"
     ]
    }
   ],
   "source": [
    "ratings = pd.read_csv(\"archive\\\\rating.csv\")\n",
    "movies=pd.read_csv(\"archive\\\\movie.csv\")\n",
    "\n",
    "# Merging dataset movies and ratings on movieId\n",
    "df=pd.merge(movies,ratings,on='movieId')\n",
    "print(df.head())"
   ]
  },
  {
   "cell_type": "markdown",
   "id": "44dbe53d",
   "metadata": {},
   "source": [
    "# Exploratory Data Analysis"
   ]
  },
  {
   "cell_type": "code",
   "execution_count": 4,
   "id": "83f331dc",
   "metadata": {},
   "outputs": [
    {
     "data": {
      "text/plain": [
       "(20000263, 6)"
      ]
     },
     "execution_count": 4,
     "metadata": {},
     "output_type": "execute_result"
    }
   ],
   "source": [
    "df.shape"
   ]
  },
  {
   "cell_type": "code",
   "execution_count": 5,
   "id": "a393c843",
   "metadata": {},
   "outputs": [
    {
     "data": {
      "text/plain": [
       "120001578"
      ]
     },
     "execution_count": 5,
     "metadata": {},
     "output_type": "execute_result"
    }
   ],
   "source": [
    "df.size"
   ]
  },
  {
   "cell_type": "code",
   "execution_count": 6,
   "id": "9f01a23c",
   "metadata": {},
   "outputs": [
    {
     "data": {
      "text/plain": [
       "Index(['movieId', 'title', 'genres', 'userId', 'rating', 'timestamp'], dtype='object')"
      ]
     },
     "execution_count": 6,
     "metadata": {},
     "output_type": "execute_result"
    }
   ],
   "source": [
    "df.columns"
   ]
  },
  {
   "cell_type": "code",
   "execution_count": 7,
   "id": "c38e6b9e",
   "metadata": {},
   "outputs": [
    {
     "name": "stdout",
     "output_type": "stream",
     "text": [
      "<class 'pandas.core.frame.DataFrame'>\n",
      "RangeIndex: 20000263 entries, 0 to 20000262\n",
      "Data columns (total 6 columns):\n",
      " #   Column     Dtype  \n",
      "---  ------     -----  \n",
      " 0   movieId    int64  \n",
      " 1   title      object \n",
      " 2   genres     object \n",
      " 3   userId     int64  \n",
      " 4   rating     float64\n",
      " 5   timestamp  object \n",
      "dtypes: float64(1), int64(2), object(3)\n",
      "memory usage: 915.5+ MB\n"
     ]
    }
   ],
   "source": [
    "df.info()"
   ]
  },
  {
   "cell_type": "code",
   "execution_count": 8,
   "id": "ca90a172",
   "metadata": {},
   "outputs": [
    {
     "data": {
      "text/html": [
       "<div>\n",
       "<style scoped>\n",
       "    .dataframe tbody tr th:only-of-type {\n",
       "        vertical-align: middle;\n",
       "    }\n",
       "\n",
       "    .dataframe tbody tr th {\n",
       "        vertical-align: top;\n",
       "    }\n",
       "\n",
       "    .dataframe thead th {\n",
       "        text-align: right;\n",
       "    }\n",
       "</style>\n",
       "<table border=\"1\" class=\"dataframe\">\n",
       "  <thead>\n",
       "    <tr style=\"text-align: right;\">\n",
       "      <th></th>\n",
       "      <th>movieId</th>\n",
       "      <th>userId</th>\n",
       "      <th>rating</th>\n",
       "    </tr>\n",
       "  </thead>\n",
       "  <tbody>\n",
       "    <tr>\n",
       "      <th>count</th>\n",
       "      <td>2.000026e+07</td>\n",
       "      <td>2.000026e+07</td>\n",
       "      <td>2.000026e+07</td>\n",
       "    </tr>\n",
       "    <tr>\n",
       "      <th>mean</th>\n",
       "      <td>9.041567e+03</td>\n",
       "      <td>6.904587e+04</td>\n",
       "      <td>3.525529e+00</td>\n",
       "    </tr>\n",
       "    <tr>\n",
       "      <th>std</th>\n",
       "      <td>1.978948e+04</td>\n",
       "      <td>4.003863e+04</td>\n",
       "      <td>1.051989e+00</td>\n",
       "    </tr>\n",
       "    <tr>\n",
       "      <th>min</th>\n",
       "      <td>1.000000e+00</td>\n",
       "      <td>1.000000e+00</td>\n",
       "      <td>5.000000e-01</td>\n",
       "    </tr>\n",
       "    <tr>\n",
       "      <th>25%</th>\n",
       "      <td>9.020000e+02</td>\n",
       "      <td>3.439500e+04</td>\n",
       "      <td>3.000000e+00</td>\n",
       "    </tr>\n",
       "    <tr>\n",
       "      <th>50%</th>\n",
       "      <td>2.167000e+03</td>\n",
       "      <td>6.914100e+04</td>\n",
       "      <td>3.500000e+00</td>\n",
       "    </tr>\n",
       "    <tr>\n",
       "      <th>75%</th>\n",
       "      <td>4.770000e+03</td>\n",
       "      <td>1.036370e+05</td>\n",
       "      <td>4.000000e+00</td>\n",
       "    </tr>\n",
       "    <tr>\n",
       "      <th>max</th>\n",
       "      <td>1.312620e+05</td>\n",
       "      <td>1.384930e+05</td>\n",
       "      <td>5.000000e+00</td>\n",
       "    </tr>\n",
       "  </tbody>\n",
       "</table>\n",
       "</div>"
      ],
      "text/plain": [
       "            movieId        userId        rating\n",
       "count  2.000026e+07  2.000026e+07  2.000026e+07\n",
       "mean   9.041567e+03  6.904587e+04  3.525529e+00\n",
       "std    1.978948e+04  4.003863e+04  1.051989e+00\n",
       "min    1.000000e+00  1.000000e+00  5.000000e-01\n",
       "25%    9.020000e+02  3.439500e+04  3.000000e+00\n",
       "50%    2.167000e+03  6.914100e+04  3.500000e+00\n",
       "75%    4.770000e+03  1.036370e+05  4.000000e+00\n",
       "max    1.312620e+05  1.384930e+05  5.000000e+00"
      ]
     },
     "execution_count": 8,
     "metadata": {},
     "output_type": "execute_result"
    }
   ],
   "source": [
    "df.describe()"
   ]
  },
  {
   "cell_type": "code",
   "execution_count": 9,
   "id": "83c77c56",
   "metadata": {},
   "outputs": [
    {
     "data": {
      "text/plain": [
       "movieId      0\n",
       "title        0\n",
       "genres       0\n",
       "userId       0\n",
       "rating       0\n",
       "timestamp    0\n",
       "dtype: int64"
      ]
     },
     "execution_count": 9,
     "metadata": {},
     "output_type": "execute_result"
    }
   ],
   "source": [
    "df.isnull().sum()"
   ]
  },
  {
   "cell_type": "code",
   "execution_count": 10,
   "id": "3a916942",
   "metadata": {},
   "outputs": [
    {
     "data": {
      "text/plain": [
       "movieId      0\n",
       "title        0\n",
       "genres       0\n",
       "userId       0\n",
       "rating       0\n",
       "timestamp    0\n",
       "dtype: int64"
      ]
     },
     "execution_count": 10,
     "metadata": {},
     "output_type": "execute_result"
    }
   ],
   "source": [
    "df.isna().sum()"
   ]
  },
  {
   "cell_type": "markdown",
   "id": "5501912a",
   "metadata": {},
   "source": [
    "# Creating user movie matrix for Clustering"
   ]
  },
  {
   "cell_type": "code",
   "execution_count": 16,
   "id": "f278353e",
   "metadata": {},
   "outputs": [
    {
     "name": "stdout",
     "output_type": "stream",
     "text": [
      "title   10 Things I Hate About You (1999)  12 Angry Men (1957)  \\\n",
      "userId                                                           \n",
      "1                                     0.0                  0.0   \n",
      "2                                     0.0                  0.0   \n",
      "3                                     0.0                  0.0   \n",
      "4                                     0.0                  0.0   \n",
      "5                                     0.0                  0.0   \n",
      "...                                   ...                  ...   \n",
      "138489                                0.0                  4.5   \n",
      "138490                                0.0                  0.0   \n",
      "138491                                0.0                  0.0   \n",
      "138492                                0.0                  0.0   \n",
      "138493                                0.0                  4.0   \n",
      "\n",
      "title   2001: A Space Odyssey (1968)  28 Days Later (2002)  300 (2007)  \\\n",
      "userId                                                                   \n",
      "1                                3.5                   3.5         0.0   \n",
      "2                                5.0                   0.0         0.0   \n",
      "3                                5.0                   0.0         0.0   \n",
      "4                                0.0                   0.0         0.0   \n",
      "5                                0.0                   0.0         0.0   \n",
      "...                              ...                   ...         ...   \n",
      "138489                           0.0                   0.0         0.0   \n",
      "138490                           0.0                   0.0         0.0   \n",
      "138491                           0.0                   0.0         0.0   \n",
      "138492                           0.0                   0.0         0.0   \n",
      "138493                           0.0                   0.0         4.5   \n",
      "\n",
      "title   40-Year-Old Virgin, The (2005)  A.I. Artificial Intelligence (2001)  \\\n",
      "userId                                                                        \n",
      "1                                  0.0                                  0.0   \n",
      "2                                  0.0                                  0.0   \n",
      "3                                  0.0                                  0.0   \n",
      "4                                  0.0                                  0.0   \n",
      "5                                  0.0                                  0.0   \n",
      "...                                ...                                  ...   \n",
      "138489                             0.0                                  0.0   \n",
      "138490                             0.0                                  0.0   \n",
      "138491                             0.0                                  0.0   \n",
      "138492                             0.0                                  0.0   \n",
      "138493                             0.0                                  0.0   \n",
      "\n",
      "title   About a Boy (2002)  Abyss, The (1989)  \\\n",
      "userId                                          \n",
      "1                      0.0                0.0   \n",
      "2                      0.0                0.0   \n",
      "3                      0.0                3.0   \n",
      "4                      0.0                0.0   \n",
      "5                      0.0                0.0   \n",
      "...                    ...                ...   \n",
      "138489                 0.0                0.0   \n",
      "138490                 0.0                0.0   \n",
      "138491                 0.0                0.0   \n",
      "138492                 0.0                0.0   \n",
      "138493                 0.0                0.0   \n",
      "\n",
      "title   Ace Ventura: Pet Detective (1994)  ...  Wild Wild West (1999)  \\\n",
      "userId                                     ...                          \n",
      "1                                     0.0  ...                    0.0   \n",
      "2                                     0.0  ...                    0.0   \n",
      "3                                     0.0  ...                    0.0   \n",
      "4                                     0.0  ...                    0.0   \n",
      "5                                     0.0  ...                    0.0   \n",
      "...                                   ...  ...                    ...   \n",
      "138489                                0.0  ...                    0.0   \n",
      "138490                                0.0  ...                    0.0   \n",
      "138491                                0.0  ...                    0.0   \n",
      "138492                                0.0  ...                    0.0   \n",
      "138493                                4.0  ...                    0.0   \n",
      "\n",
      "title   William Shakespeare's Romeo + Juliet (1996)  \\\n",
      "userId                                                \n",
      "1                                               0.0   \n",
      "2                                               0.0   \n",
      "3                                               0.0   \n",
      "4                                               0.0   \n",
      "5                                               0.0   \n",
      "...                                             ...   \n",
      "138489                                          0.0   \n",
      "138490                                          0.0   \n",
      "138491                                          0.0   \n",
      "138492                                          0.0   \n",
      "138493                                          0.0   \n",
      "\n",
      "title   Willy Wonka & the Chocolate Factory (1971)  Witness (1985)  \\\n",
      "userId                                                               \n",
      "1                                              0.0             0.0   \n",
      "2                                              0.0             0.0   \n",
      "3                                              5.0             4.0   \n",
      "4                                              0.0             0.0   \n",
      "5                                              2.0             0.0   \n",
      "...                                            ...             ...   \n",
      "138489                                         0.0             0.0   \n",
      "138490                                         0.0             0.0   \n",
      "138491                                         0.0             0.0   \n",
      "138492                                         3.5             0.0   \n",
      "138493                                         5.0             0.0   \n",
      "\n",
      "title   Wizard of Oz, The (1939)  X-Files: Fight the Future, The (1998)  \\\n",
      "userId                                                                    \n",
      "1                            3.5                                    0.0   \n",
      "2                            0.0                                    0.0   \n",
      "3                            4.0                                    5.0   \n",
      "4                            0.0                                    0.0   \n",
      "5                            0.0                                    0.0   \n",
      "...                          ...                                    ...   \n",
      "138489                       0.0                                    0.0   \n",
      "138490                       0.0                                    0.0   \n",
      "138491                       0.0                                    0.0   \n",
      "138492                       0.0                                    0.0   \n",
      "138493                       0.0                                    0.0   \n",
      "\n",
      "title   X-Men (2000)  X2: X-Men United (2003)  You've Got Mail (1998)  \\\n",
      "userId                                                                  \n",
      "1                0.0                      4.0                     0.0   \n",
      "2                0.0                      0.0                     0.0   \n",
      "3                0.0                      0.0                     0.0   \n",
      "4                0.0                      0.0                     0.0   \n",
      "5                0.0                      0.0                     0.0   \n",
      "...              ...                      ...                     ...   \n",
      "138489           0.0                      0.0                     0.0   \n",
      "138490           0.0                      0.0                     0.0   \n",
      "138491           0.0                      0.0                     0.0   \n",
      "138492           0.0                      0.0                     0.0   \n",
      "138493           4.5                      4.5                     5.0   \n",
      "\n",
      "title   Young Frankenstein (1974)  \n",
      "userId                             \n",
      "1                             4.0  \n",
      "2                             0.0  \n",
      "3                             5.0  \n",
      "4                             0.0  \n",
      "5                             0.0  \n",
      "...                           ...  \n",
      "138489                        0.0  \n",
      "138490                        0.0  \n",
      "138491                        0.0  \n",
      "138492                        0.0  \n",
      "138493                        0.0  \n",
      "\n",
      "[137753 rows x 500 columns]\n"
     ]
    }
   ],
   "source": [
    "top_movies=df['title'].value_counts().nlargest(1200).index\n",
    "df=df[df['title'].isin(top_movies)]\n",
    "\n",
    "user_movie_matrix=df.pivot_table(index='userId',columns='title',values='rating').fillna(0)\n",
    "print(user_movie_matrix)\n",
    "ss=StandardScaler()\n",
    "scaled_user_movie_matrix=ss.fit_transform(user_movie_matrix)"
   ]
  },
  {
   "cell_type": "markdown",
   "id": "b23091e6",
   "metadata": {},
   "source": [
    "# Kmeans Clustering"
   ]
  },
  {
   "cell_type": "code",
   "execution_count": 21,
   "id": "380de021",
   "metadata": {},
   "outputs": [
    {
     "name": "stdout",
     "output_type": "stream",
     "text": [
      "[0 1 4 ... 1 1 0]\n",
      "   movieId             title                                       genres  \\\n",
      "0        1  Toy Story (1995)  Adventure|Animation|Children|Comedy|Fantasy   \n",
      "1        1  Toy Story (1995)  Adventure|Animation|Children|Comedy|Fantasy   \n",
      "2        1  Toy Story (1995)  Adventure|Animation|Children|Comedy|Fantasy   \n",
      "3        1  Toy Story (1995)  Adventure|Animation|Children|Comedy|Fantasy   \n",
      "4        1  Toy Story (1995)  Adventure|Animation|Children|Comedy|Fantasy   \n",
      "\n",
      "   userId  rating            timestamp  cluster_x  cluster_y  liked  cluster  \n",
      "0       3     4.0  1999-12-11 13:36:47          4          4      1        4  \n",
      "1       6     5.0  1997-03-13 17:50:52          1          1      1        1  \n",
      "2       8     4.0  1996-06-05 13:37:51          3          3      1        3  \n",
      "3      10     4.0  1999-11-25 02:44:47          1          1      1        1  \n",
      "4      11     4.5  2009-01-02 01:13:41          0          0      1        0  \n"
     ]
    }
   ],
   "source": [
    "kmeans=KMeans(n_clusters=5,random_state=42,n_init=10)\n",
    "user_clusters=kmeans.fit_predict(scaled_user_movie_matrix)\n",
    "print(user_clusters)\n",
    "user_movie_matrix['cluster']=user_clusters\n",
    "df=df.merge(user_movie_matrix['cluster'],on='userId')\n",
    "print(df.head())"
   ]
  },
  {
   "cell_type": "markdown",
   "id": "f3cdee49",
   "metadata": {},
   "source": [
    "# Creating Like label"
   ]
  },
  {
   "cell_type": "code",
   "execution_count": 19,
   "id": "7e92aad0",
   "metadata": {},
   "outputs": [],
   "source": [
    "df['liked']=(df['rating']>=4).astype(int)"
   ]
  },
  {
   "cell_type": "markdown",
   "id": "56c990b6",
   "metadata": {},
   "source": [
    "# Feature Engineering"
   ]
  },
  {
   "cell_type": "code",
   "execution_count": 25,
   "id": "3478a1c7",
   "metadata": {},
   "outputs": [
    {
     "name": "stdout",
     "output_type": "stream",
     "text": [
      "         cluster  genres_Action|Adventure|Animation|Children|Comedy  \\\n",
      "0              4                                              False   \n",
      "1              1                                              False   \n",
      "2              3                                              False   \n",
      "3              1                                              False   \n",
      "4              0                                              False   \n",
      "...          ...                                                ...   \n",
      "9416379        2                                              False   \n",
      "9416380        1                                              False   \n",
      "9416381        2                                              False   \n",
      "9416382        0                                              False   \n",
      "9416383        0                                              False   \n",
      "\n",
      "         genres_Action|Adventure|Animation|Drama|Fantasy  \\\n",
      "0                                                  False   \n",
      "1                                                  False   \n",
      "2                                                  False   \n",
      "3                                                  False   \n",
      "4                                                  False   \n",
      "...                                                  ...   \n",
      "9416379                                            False   \n",
      "9416380                                            False   \n",
      "9416381                                            False   \n",
      "9416382                                            False   \n",
      "9416383                                            False   \n",
      "\n",
      "         genres_Action|Adventure|Children|Comedy|Fantasy  \\\n",
      "0                                                  False   \n",
      "1                                                  False   \n",
      "2                                                  False   \n",
      "3                                                  False   \n",
      "4                                                  False   \n",
      "...                                                  ...   \n",
      "9416379                                            False   \n",
      "9416380                                            False   \n",
      "9416381                                            False   \n",
      "9416382                                            False   \n",
      "9416383                                            False   \n",
      "\n",
      "         genres_Action|Adventure|Comedy  genres_Action|Adventure|Comedy|Crime  \\\n",
      "0                                 False                                 False   \n",
      "1                                 False                                 False   \n",
      "2                                 False                                 False   \n",
      "3                                 False                                 False   \n",
      "4                                 False                                 False   \n",
      "...                                 ...                                   ...   \n",
      "9416379                           False                                 False   \n",
      "9416380                           False                                 False   \n",
      "9416381                           False                                 False   \n",
      "9416382                           False                                 False   \n",
      "9416383                           False                                 False   \n",
      "\n",
      "         genres_Action|Adventure|Comedy|Drama|War  \\\n",
      "0                                           False   \n",
      "1                                           False   \n",
      "2                                           False   \n",
      "3                                           False   \n",
      "4                                           False   \n",
      "...                                           ...   \n",
      "9416379                                     False   \n",
      "9416380                                     False   \n",
      "9416381                                     False   \n",
      "9416382                                     False   \n",
      "9416383                                     False   \n",
      "\n",
      "         genres_Action|Adventure|Comedy|Fantasy  \\\n",
      "0                                         False   \n",
      "1                                         False   \n",
      "2                                         False   \n",
      "3                                         False   \n",
      "4                                         False   \n",
      "...                                         ...   \n",
      "9416379                                   False   \n",
      "9416380                                   False   \n",
      "9416381                                   False   \n",
      "9416382                                   False   \n",
      "9416383                                   False   \n",
      "\n",
      "         genres_Action|Adventure|Comedy|Fantasy|Horror  \\\n",
      "0                                                False   \n",
      "1                                                False   \n",
      "2                                                False   \n",
      "3                                                False   \n",
      "4                                                False   \n",
      "...                                                ...   \n",
      "9416379                                          False   \n",
      "9416380                                          False   \n",
      "9416381                                          False   \n",
      "9416382                                          False   \n",
      "9416383                                          False   \n",
      "\n",
      "         genres_Action|Adventure|Comedy|Fantasy|Horror|Thriller  ...  \\\n",
      "0                                                    False       ...   \n",
      "1                                                    False       ...   \n",
      "2                                                    False       ...   \n",
      "3                                                    False       ...   \n",
      "4                                                    False       ...   \n",
      "...                                                    ...       ...   \n",
      "9416379                                              False       ...   \n",
      "9416380                                              False       ...   \n",
      "9416381                                              False       ...   \n",
      "9416382                                              False       ...   \n",
      "9416383                                              False       ...   \n",
      "\n",
      "         genres_Horror  genres_Horror|Mystery  genres_Horror|Mystery|Thriller  \\\n",
      "0                False                  False                           False   \n",
      "1                False                  False                           False   \n",
      "2                False                  False                           False   \n",
      "3                False                  False                           False   \n",
      "4                False                  False                           False   \n",
      "...                ...                    ...                             ...   \n",
      "9416379          False                  False                           False   \n",
      "9416380          False                  False                           False   \n",
      "9416381          False                  False                           False   \n",
      "9416382          False                  False                           False   \n",
      "9416383          False                  False                           False   \n",
      "\n",
      "         genres_Horror|Sci-Fi  genres_Horror|Sci-Fi|Thriller  \\\n",
      "0                       False                          False   \n",
      "1                       False                          False   \n",
      "2                       False                          False   \n",
      "3                       False                          False   \n",
      "4                       False                          False   \n",
      "...                       ...                            ...   \n",
      "9416379                 False                          False   \n",
      "9416380                 False                          False   \n",
      "9416381                 False                          False   \n",
      "9416382                 False                          False   \n",
      "9416383                 False                          False   \n",
      "\n",
      "         genres_Horror|Thriller  genres_Musical|Romance  \\\n",
      "0                         False                   False   \n",
      "1                         False                   False   \n",
      "2                         False                   False   \n",
      "3                         False                   False   \n",
      "4                         False                   False   \n",
      "...                         ...                     ...   \n",
      "9416379                   False                   False   \n",
      "9416380                   False                   False   \n",
      "9416381                   False                   False   \n",
      "9416382                   False                   False   \n",
      "9416383                   False                   False   \n",
      "\n",
      "         genres_Mystery|Sci-Fi|Thriller  genres_Mystery|Thriller  \\\n",
      "0                                 False                    False   \n",
      "1                                 False                    False   \n",
      "2                                 False                    False   \n",
      "3                                 False                    False   \n",
      "4                                 False                    False   \n",
      "...                                 ...                      ...   \n",
      "9416379                           False                    False   \n",
      "9416380                           False                    False   \n",
      "9416381                           False                    False   \n",
      "9416382                           False                    False   \n",
      "9416383                           False                    False   \n",
      "\n",
      "         genres_Thriller  \n",
      "0                  False  \n",
      "1                  False  \n",
      "2                  False  \n",
      "3                  False  \n",
      "4                  False  \n",
      "...                  ...  \n",
      "9416379            False  \n",
      "9416380            False  \n",
      "9416381            False  \n",
      "9416382            False  \n",
      "9416383            False  \n",
      "\n",
      "[9416384 rows x 208 columns]\n"
     ]
    }
   ],
   "source": [
    "X=pd.get_dummies(df[['cluster','genres']],drop_first=True)\n",
    "y=df['liked']\n",
    "\n",
    "print(X)"
   ]
  },
  {
   "cell_type": "markdown",
   "id": "d9c53fff",
   "metadata": {},
   "source": [
    "# Classification model (RandomForestClassifier)"
   ]
  },
  {
   "cell_type": "code",
   "execution_count": 29,
   "id": "dac9df54",
   "metadata": {},
   "outputs": [
    {
     "ename": "MemoryError",
     "evalue": "Unable to allocate 5.81 GiB for an array with shape (207, 7533107) and data type float32",
     "output_type": "error",
     "traceback": [
      "\u001b[1;31m---------------------------------------------------------------------------\u001b[0m",
      "\u001b[1;31mMemoryError\u001b[0m                               Traceback (most recent call last)",
      "Cell \u001b[1;32mIn[29], line 4\u001b[0m\n\u001b[0;32m      1\u001b[0m X_train, X_test, y_train, y_test \u001b[38;5;241m=\u001b[39m train_test_split(X, y, test_size\u001b[38;5;241m=\u001b[39m\u001b[38;5;241m0.2\u001b[39m, random_state\u001b[38;5;241m=\u001b[39m\u001b[38;5;241m42\u001b[39m)\n\u001b[0;32m      3\u001b[0m rfc\u001b[38;5;241m=\u001b[39mRandomForestClassifier(random_state\u001b[38;5;241m=\u001b[39m\u001b[38;5;241m42\u001b[39m)\n\u001b[1;32m----> 4\u001b[0m rfc\u001b[38;5;241m.\u001b[39mfit(X_train,y_train)\n\u001b[0;32m      5\u001b[0m y_pred\u001b[38;5;241m=\u001b[39mrfc\u001b[38;5;241m.\u001b[39mpredict(X_test)\n",
      "File \u001b[1;32mc:\\Users\\Dibyanshu\\anaconda3\\Lib\\site-packages\\sklearn\\base.py:1474\u001b[0m, in \u001b[0;36m_fit_context.<locals>.decorator.<locals>.wrapper\u001b[1;34m(estimator, *args, **kwargs)\u001b[0m\n\u001b[0;32m   1467\u001b[0m     estimator\u001b[38;5;241m.\u001b[39m_validate_params()\n\u001b[0;32m   1469\u001b[0m \u001b[38;5;28;01mwith\u001b[39;00m config_context(\n\u001b[0;32m   1470\u001b[0m     skip_parameter_validation\u001b[38;5;241m=\u001b[39m(\n\u001b[0;32m   1471\u001b[0m         prefer_skip_nested_validation \u001b[38;5;129;01mor\u001b[39;00m global_skip_validation\n\u001b[0;32m   1472\u001b[0m     )\n\u001b[0;32m   1473\u001b[0m ):\n\u001b[1;32m-> 1474\u001b[0m     \u001b[38;5;28;01mreturn\u001b[39;00m fit_method(estimator, \u001b[38;5;241m*\u001b[39margs, \u001b[38;5;241m*\u001b[39m\u001b[38;5;241m*\u001b[39mkwargs)\n",
      "File \u001b[1;32mc:\\Users\\Dibyanshu\\anaconda3\\Lib\\site-packages\\sklearn\\ensemble\\_forest.py:363\u001b[0m, in \u001b[0;36mBaseForest.fit\u001b[1;34m(self, X, y, sample_weight)\u001b[0m\n\u001b[0;32m    360\u001b[0m \u001b[38;5;28;01mif\u001b[39;00m issparse(y):\n\u001b[0;32m    361\u001b[0m     \u001b[38;5;28;01mraise\u001b[39;00m \u001b[38;5;167;01mValueError\u001b[39;00m(\u001b[38;5;124m\"\u001b[39m\u001b[38;5;124msparse multilabel-indicator for y is not supported.\u001b[39m\u001b[38;5;124m\"\u001b[39m)\n\u001b[1;32m--> 363\u001b[0m X, y \u001b[38;5;241m=\u001b[39m \u001b[38;5;28mself\u001b[39m\u001b[38;5;241m.\u001b[39m_validate_data(\n\u001b[0;32m    364\u001b[0m     X,\n\u001b[0;32m    365\u001b[0m     y,\n\u001b[0;32m    366\u001b[0m     multi_output\u001b[38;5;241m=\u001b[39m\u001b[38;5;28;01mTrue\u001b[39;00m,\n\u001b[0;32m    367\u001b[0m     accept_sparse\u001b[38;5;241m=\u001b[39m\u001b[38;5;124m\"\u001b[39m\u001b[38;5;124mcsc\u001b[39m\u001b[38;5;124m\"\u001b[39m,\n\u001b[0;32m    368\u001b[0m     dtype\u001b[38;5;241m=\u001b[39mDTYPE,\n\u001b[0;32m    369\u001b[0m     force_all_finite\u001b[38;5;241m=\u001b[39m\u001b[38;5;28;01mFalse\u001b[39;00m,\n\u001b[0;32m    370\u001b[0m )\n\u001b[0;32m    371\u001b[0m \u001b[38;5;66;03m# _compute_missing_values_in_feature_mask checks if X has missing values and\u001b[39;00m\n\u001b[0;32m    372\u001b[0m \u001b[38;5;66;03m# will raise an error if the underlying tree base estimator can't handle missing\u001b[39;00m\n\u001b[0;32m    373\u001b[0m \u001b[38;5;66;03m# values. Only the criterion is required to determine if the tree supports\u001b[39;00m\n\u001b[0;32m    374\u001b[0m \u001b[38;5;66;03m# missing values.\u001b[39;00m\n\u001b[0;32m    375\u001b[0m estimator \u001b[38;5;241m=\u001b[39m \u001b[38;5;28mtype\u001b[39m(\u001b[38;5;28mself\u001b[39m\u001b[38;5;241m.\u001b[39mestimator)(criterion\u001b[38;5;241m=\u001b[39m\u001b[38;5;28mself\u001b[39m\u001b[38;5;241m.\u001b[39mcriterion)\n",
      "File \u001b[1;32mc:\\Users\\Dibyanshu\\anaconda3\\Lib\\site-packages\\sklearn\\base.py:650\u001b[0m, in \u001b[0;36mBaseEstimator._validate_data\u001b[1;34m(self, X, y, reset, validate_separately, cast_to_ndarray, **check_params)\u001b[0m\n\u001b[0;32m    648\u001b[0m         y \u001b[38;5;241m=\u001b[39m check_array(y, input_name\u001b[38;5;241m=\u001b[39m\u001b[38;5;124m\"\u001b[39m\u001b[38;5;124my\u001b[39m\u001b[38;5;124m\"\u001b[39m, \u001b[38;5;241m*\u001b[39m\u001b[38;5;241m*\u001b[39mcheck_y_params)\n\u001b[0;32m    649\u001b[0m     \u001b[38;5;28;01melse\u001b[39;00m:\n\u001b[1;32m--> 650\u001b[0m         X, y \u001b[38;5;241m=\u001b[39m check_X_y(X, y, \u001b[38;5;241m*\u001b[39m\u001b[38;5;241m*\u001b[39mcheck_params)\n\u001b[0;32m    651\u001b[0m     out \u001b[38;5;241m=\u001b[39m X, y\n\u001b[0;32m    653\u001b[0m \u001b[38;5;28;01mif\u001b[39;00m \u001b[38;5;129;01mnot\u001b[39;00m no_val_X \u001b[38;5;129;01mand\u001b[39;00m check_params\u001b[38;5;241m.\u001b[39mget(\u001b[38;5;124m\"\u001b[39m\u001b[38;5;124mensure_2d\u001b[39m\u001b[38;5;124m\"\u001b[39m, \u001b[38;5;28;01mTrue\u001b[39;00m):\n",
      "File \u001b[1;32mc:\\Users\\Dibyanshu\\anaconda3\\Lib\\site-packages\\sklearn\\utils\\validation.py:1263\u001b[0m, in \u001b[0;36mcheck_X_y\u001b[1;34m(X, y, accept_sparse, accept_large_sparse, dtype, order, copy, force_all_finite, ensure_2d, allow_nd, multi_output, ensure_min_samples, ensure_min_features, y_numeric, estimator)\u001b[0m\n\u001b[0;32m   1258\u001b[0m         estimator_name \u001b[38;5;241m=\u001b[39m _check_estimator_name(estimator)\n\u001b[0;32m   1259\u001b[0m     \u001b[38;5;28;01mraise\u001b[39;00m \u001b[38;5;167;01mValueError\u001b[39;00m(\n\u001b[0;32m   1260\u001b[0m         \u001b[38;5;124mf\u001b[39m\u001b[38;5;124m\"\u001b[39m\u001b[38;5;132;01m{\u001b[39;00mestimator_name\u001b[38;5;132;01m}\u001b[39;00m\u001b[38;5;124m requires y to be passed, but the target y is None\u001b[39m\u001b[38;5;124m\"\u001b[39m\n\u001b[0;32m   1261\u001b[0m     )\n\u001b[1;32m-> 1263\u001b[0m X \u001b[38;5;241m=\u001b[39m check_array(\n\u001b[0;32m   1264\u001b[0m     X,\n\u001b[0;32m   1265\u001b[0m     accept_sparse\u001b[38;5;241m=\u001b[39maccept_sparse,\n\u001b[0;32m   1266\u001b[0m     accept_large_sparse\u001b[38;5;241m=\u001b[39maccept_large_sparse,\n\u001b[0;32m   1267\u001b[0m     dtype\u001b[38;5;241m=\u001b[39mdtype,\n\u001b[0;32m   1268\u001b[0m     order\u001b[38;5;241m=\u001b[39morder,\n\u001b[0;32m   1269\u001b[0m     copy\u001b[38;5;241m=\u001b[39mcopy,\n\u001b[0;32m   1270\u001b[0m     force_all_finite\u001b[38;5;241m=\u001b[39mforce_all_finite,\n\u001b[0;32m   1271\u001b[0m     ensure_2d\u001b[38;5;241m=\u001b[39mensure_2d,\n\u001b[0;32m   1272\u001b[0m     allow_nd\u001b[38;5;241m=\u001b[39mallow_nd,\n\u001b[0;32m   1273\u001b[0m     ensure_min_samples\u001b[38;5;241m=\u001b[39mensure_min_samples,\n\u001b[0;32m   1274\u001b[0m     ensure_min_features\u001b[38;5;241m=\u001b[39mensure_min_features,\n\u001b[0;32m   1275\u001b[0m     estimator\u001b[38;5;241m=\u001b[39mestimator,\n\u001b[0;32m   1276\u001b[0m     input_name\u001b[38;5;241m=\u001b[39m\u001b[38;5;124m\"\u001b[39m\u001b[38;5;124mX\u001b[39m\u001b[38;5;124m\"\u001b[39m,\n\u001b[0;32m   1277\u001b[0m )\n\u001b[0;32m   1279\u001b[0m y \u001b[38;5;241m=\u001b[39m _check_y(y, multi_output\u001b[38;5;241m=\u001b[39mmulti_output, y_numeric\u001b[38;5;241m=\u001b[39my_numeric, estimator\u001b[38;5;241m=\u001b[39mestimator)\n\u001b[0;32m   1281\u001b[0m check_consistent_length(X, y)\n",
      "File \u001b[1;32mc:\\Users\\Dibyanshu\\anaconda3\\Lib\\site-packages\\sklearn\\utils\\validation.py:921\u001b[0m, in \u001b[0;36mcheck_array\u001b[1;34m(array, accept_sparse, accept_large_sparse, dtype, order, copy, force_all_finite, ensure_2d, allow_nd, ensure_min_samples, ensure_min_features, estimator, input_name)\u001b[0m\n\u001b[0;32m    916\u001b[0m \u001b[38;5;28;01mif\u001b[39;00m pandas_requires_conversion:\n\u001b[0;32m    917\u001b[0m     \u001b[38;5;66;03m# pandas dataframe requires conversion earlier to handle extension dtypes with\u001b[39;00m\n\u001b[0;32m    918\u001b[0m     \u001b[38;5;66;03m# nans\u001b[39;00m\n\u001b[0;32m    919\u001b[0m     \u001b[38;5;66;03m# Use the original dtype for conversion if dtype is None\u001b[39;00m\n\u001b[0;32m    920\u001b[0m     new_dtype \u001b[38;5;241m=\u001b[39m dtype_orig \u001b[38;5;28;01mif\u001b[39;00m dtype \u001b[38;5;129;01mis\u001b[39;00m \u001b[38;5;28;01mNone\u001b[39;00m \u001b[38;5;28;01melse\u001b[39;00m dtype\n\u001b[1;32m--> 921\u001b[0m     array \u001b[38;5;241m=\u001b[39m array\u001b[38;5;241m.\u001b[39mastype(new_dtype)\n\u001b[0;32m    922\u001b[0m     \u001b[38;5;66;03m# Since we converted here, we do not need to convert again later\u001b[39;00m\n\u001b[0;32m    923\u001b[0m     dtype \u001b[38;5;241m=\u001b[39m \u001b[38;5;28;01mNone\u001b[39;00m\n",
      "File \u001b[1;32mc:\\Users\\Dibyanshu\\anaconda3\\Lib\\site-packages\\pandas\\core\\generic.py:6643\u001b[0m, in \u001b[0;36mNDFrame.astype\u001b[1;34m(self, dtype, copy, errors)\u001b[0m\n\u001b[0;32m   6637\u001b[0m     results \u001b[38;5;241m=\u001b[39m [\n\u001b[0;32m   6638\u001b[0m         ser\u001b[38;5;241m.\u001b[39mastype(dtype, copy\u001b[38;5;241m=\u001b[39mcopy, errors\u001b[38;5;241m=\u001b[39merrors) \u001b[38;5;28;01mfor\u001b[39;00m _, ser \u001b[38;5;129;01min\u001b[39;00m \u001b[38;5;28mself\u001b[39m\u001b[38;5;241m.\u001b[39mitems()\n\u001b[0;32m   6639\u001b[0m     ]\n\u001b[0;32m   6641\u001b[0m \u001b[38;5;28;01melse\u001b[39;00m:\n\u001b[0;32m   6642\u001b[0m     \u001b[38;5;66;03m# else, only a single dtype is given\u001b[39;00m\n\u001b[1;32m-> 6643\u001b[0m     new_data \u001b[38;5;241m=\u001b[39m \u001b[38;5;28mself\u001b[39m\u001b[38;5;241m.\u001b[39m_mgr\u001b[38;5;241m.\u001b[39mastype(dtype\u001b[38;5;241m=\u001b[39mdtype, copy\u001b[38;5;241m=\u001b[39mcopy, errors\u001b[38;5;241m=\u001b[39merrors)\n\u001b[0;32m   6644\u001b[0m     res \u001b[38;5;241m=\u001b[39m \u001b[38;5;28mself\u001b[39m\u001b[38;5;241m.\u001b[39m_constructor_from_mgr(new_data, axes\u001b[38;5;241m=\u001b[39mnew_data\u001b[38;5;241m.\u001b[39maxes)\n\u001b[0;32m   6645\u001b[0m     \u001b[38;5;28;01mreturn\u001b[39;00m res\u001b[38;5;241m.\u001b[39m__finalize__(\u001b[38;5;28mself\u001b[39m, method\u001b[38;5;241m=\u001b[39m\u001b[38;5;124m\"\u001b[39m\u001b[38;5;124mastype\u001b[39m\u001b[38;5;124m\"\u001b[39m)\n",
      "File \u001b[1;32mc:\\Users\\Dibyanshu\\anaconda3\\Lib\\site-packages\\pandas\\core\\internals\\managers.py:430\u001b[0m, in \u001b[0;36mBaseBlockManager.astype\u001b[1;34m(self, dtype, copy, errors)\u001b[0m\n\u001b[0;32m    427\u001b[0m \u001b[38;5;28;01melif\u001b[39;00m using_copy_on_write():\n\u001b[0;32m    428\u001b[0m     copy \u001b[38;5;241m=\u001b[39m \u001b[38;5;28;01mFalse\u001b[39;00m\n\u001b[1;32m--> 430\u001b[0m \u001b[38;5;28;01mreturn\u001b[39;00m \u001b[38;5;28mself\u001b[39m\u001b[38;5;241m.\u001b[39mapply(\n\u001b[0;32m    431\u001b[0m     \u001b[38;5;124m\"\u001b[39m\u001b[38;5;124mastype\u001b[39m\u001b[38;5;124m\"\u001b[39m,\n\u001b[0;32m    432\u001b[0m     dtype\u001b[38;5;241m=\u001b[39mdtype,\n\u001b[0;32m    433\u001b[0m     copy\u001b[38;5;241m=\u001b[39mcopy,\n\u001b[0;32m    434\u001b[0m     errors\u001b[38;5;241m=\u001b[39merrors,\n\u001b[0;32m    435\u001b[0m     using_cow\u001b[38;5;241m=\u001b[39musing_copy_on_write(),\n\u001b[0;32m    436\u001b[0m )\n",
      "File \u001b[1;32mc:\\Users\\Dibyanshu\\anaconda3\\Lib\\site-packages\\pandas\\core\\internals\\managers.py:363\u001b[0m, in \u001b[0;36mBaseBlockManager.apply\u001b[1;34m(self, f, align_keys, **kwargs)\u001b[0m\n\u001b[0;32m    361\u001b[0m         applied \u001b[38;5;241m=\u001b[39m b\u001b[38;5;241m.\u001b[39mapply(f, \u001b[38;5;241m*\u001b[39m\u001b[38;5;241m*\u001b[39mkwargs)\n\u001b[0;32m    362\u001b[0m     \u001b[38;5;28;01melse\u001b[39;00m:\n\u001b[1;32m--> 363\u001b[0m         applied \u001b[38;5;241m=\u001b[39m \u001b[38;5;28mgetattr\u001b[39m(b, f)(\u001b[38;5;241m*\u001b[39m\u001b[38;5;241m*\u001b[39mkwargs)\n\u001b[0;32m    364\u001b[0m     result_blocks \u001b[38;5;241m=\u001b[39m extend_blocks(applied, result_blocks)\n\u001b[0;32m    366\u001b[0m out \u001b[38;5;241m=\u001b[39m \u001b[38;5;28mtype\u001b[39m(\u001b[38;5;28mself\u001b[39m)\u001b[38;5;241m.\u001b[39mfrom_blocks(result_blocks, \u001b[38;5;28mself\u001b[39m\u001b[38;5;241m.\u001b[39maxes)\n",
      "File \u001b[1;32mc:\\Users\\Dibyanshu\\anaconda3\\Lib\\site-packages\\pandas\\core\\internals\\blocks.py:758\u001b[0m, in \u001b[0;36mBlock.astype\u001b[1;34m(self, dtype, copy, errors, using_cow, squeeze)\u001b[0m\n\u001b[0;32m    755\u001b[0m         \u001b[38;5;28;01mraise\u001b[39;00m \u001b[38;5;167;01mValueError\u001b[39;00m(\u001b[38;5;124m\"\u001b[39m\u001b[38;5;124mCan not squeeze with more than one column.\u001b[39m\u001b[38;5;124m\"\u001b[39m)\n\u001b[0;32m    756\u001b[0m     values \u001b[38;5;241m=\u001b[39m values[\u001b[38;5;241m0\u001b[39m, :]  \u001b[38;5;66;03m# type: ignore[call-overload]\u001b[39;00m\n\u001b[1;32m--> 758\u001b[0m new_values \u001b[38;5;241m=\u001b[39m astype_array_safe(values, dtype, copy\u001b[38;5;241m=\u001b[39mcopy, errors\u001b[38;5;241m=\u001b[39merrors)\n\u001b[0;32m    760\u001b[0m new_values \u001b[38;5;241m=\u001b[39m maybe_coerce_values(new_values)\n\u001b[0;32m    762\u001b[0m refs \u001b[38;5;241m=\u001b[39m \u001b[38;5;28;01mNone\u001b[39;00m\n",
      "File \u001b[1;32mc:\\Users\\Dibyanshu\\anaconda3\\Lib\\site-packages\\pandas\\core\\dtypes\\astype.py:237\u001b[0m, in \u001b[0;36mastype_array_safe\u001b[1;34m(values, dtype, copy, errors)\u001b[0m\n\u001b[0;32m    234\u001b[0m     dtype \u001b[38;5;241m=\u001b[39m dtype\u001b[38;5;241m.\u001b[39mnumpy_dtype\n\u001b[0;32m    236\u001b[0m \u001b[38;5;28;01mtry\u001b[39;00m:\n\u001b[1;32m--> 237\u001b[0m     new_values \u001b[38;5;241m=\u001b[39m astype_array(values, dtype, copy\u001b[38;5;241m=\u001b[39mcopy)\n\u001b[0;32m    238\u001b[0m \u001b[38;5;28;01mexcept\u001b[39;00m (\u001b[38;5;167;01mValueError\u001b[39;00m, \u001b[38;5;167;01mTypeError\u001b[39;00m):\n\u001b[0;32m    239\u001b[0m     \u001b[38;5;66;03m# e.g. _astype_nansafe can fail on object-dtype of strings\u001b[39;00m\n\u001b[0;32m    240\u001b[0m     \u001b[38;5;66;03m#  trying to convert to float\u001b[39;00m\n\u001b[0;32m    241\u001b[0m     \u001b[38;5;28;01mif\u001b[39;00m errors \u001b[38;5;241m==\u001b[39m \u001b[38;5;124m\"\u001b[39m\u001b[38;5;124mignore\u001b[39m\u001b[38;5;124m\"\u001b[39m:\n",
      "File \u001b[1;32mc:\\Users\\Dibyanshu\\anaconda3\\Lib\\site-packages\\pandas\\core\\dtypes\\astype.py:182\u001b[0m, in \u001b[0;36mastype_array\u001b[1;34m(values, dtype, copy)\u001b[0m\n\u001b[0;32m    179\u001b[0m     values \u001b[38;5;241m=\u001b[39m values\u001b[38;5;241m.\u001b[39mastype(dtype, copy\u001b[38;5;241m=\u001b[39mcopy)\n\u001b[0;32m    181\u001b[0m \u001b[38;5;28;01melse\u001b[39;00m:\n\u001b[1;32m--> 182\u001b[0m     values \u001b[38;5;241m=\u001b[39m _astype_nansafe(values, dtype, copy\u001b[38;5;241m=\u001b[39mcopy)\n\u001b[0;32m    184\u001b[0m \u001b[38;5;66;03m# in pandas we don't store numpy str dtypes, so convert to object\u001b[39;00m\n\u001b[0;32m    185\u001b[0m \u001b[38;5;28;01mif\u001b[39;00m \u001b[38;5;28misinstance\u001b[39m(dtype, np\u001b[38;5;241m.\u001b[39mdtype) \u001b[38;5;129;01mand\u001b[39;00m \u001b[38;5;28missubclass\u001b[39m(values\u001b[38;5;241m.\u001b[39mdtype\u001b[38;5;241m.\u001b[39mtype, \u001b[38;5;28mstr\u001b[39m):\n",
      "File \u001b[1;32mc:\\Users\\Dibyanshu\\anaconda3\\Lib\\site-packages\\pandas\\core\\dtypes\\astype.py:133\u001b[0m, in \u001b[0;36m_astype_nansafe\u001b[1;34m(arr, dtype, copy, skipna)\u001b[0m\n\u001b[0;32m    129\u001b[0m     \u001b[38;5;28;01mraise\u001b[39;00m \u001b[38;5;167;01mValueError\u001b[39;00m(msg)\n\u001b[0;32m    131\u001b[0m \u001b[38;5;28;01mif\u001b[39;00m copy \u001b[38;5;129;01mor\u001b[39;00m arr\u001b[38;5;241m.\u001b[39mdtype \u001b[38;5;241m==\u001b[39m \u001b[38;5;28mobject\u001b[39m \u001b[38;5;129;01mor\u001b[39;00m dtype \u001b[38;5;241m==\u001b[39m \u001b[38;5;28mobject\u001b[39m:\n\u001b[0;32m    132\u001b[0m     \u001b[38;5;66;03m# Explicit copy, or required since NumPy can't view from / to object.\u001b[39;00m\n\u001b[1;32m--> 133\u001b[0m     \u001b[38;5;28;01mreturn\u001b[39;00m arr\u001b[38;5;241m.\u001b[39mastype(dtype, copy\u001b[38;5;241m=\u001b[39m\u001b[38;5;28;01mTrue\u001b[39;00m)\n\u001b[0;32m    135\u001b[0m \u001b[38;5;28;01mreturn\u001b[39;00m arr\u001b[38;5;241m.\u001b[39mastype(dtype, copy\u001b[38;5;241m=\u001b[39mcopy)\n",
      "\u001b[1;31mMemoryError\u001b[0m: Unable to allocate 5.81 GiB for an array with shape (207, 7533107) and data type float32"
     ]
    }
   ],
   "source": [
    "X_train, X_test, y_train, y_test = train_test_split(X, y, test_size=0.2, random_state=42)\n",
    "\n",
    "rfc=RandomForestClassifier(random_state=42)\n",
    "rfc.fit(X_train,y_train)\n",
    "y_pred=rfc.predict(X_test)"
   ]
  },
  {
   "cell_type": "code",
   "execution_count": null,
   "id": "2a98d790",
   "metadata": {},
   "outputs": [],
   "source": [
    "print(\"Classification report:\\n\\n\",classification_report(y_))"
   ]
  }
 ],
 "metadata": {
  "kernelspec": {
   "display_name": "base",
   "language": "python",
   "name": "python3"
  },
  "language_info": {
   "codemirror_mode": {
    "name": "ipython",
    "version": 3
   },
   "file_extension": ".py",
   "mimetype": "text/x-python",
   "name": "python",
   "nbconvert_exporter": "python",
   "pygments_lexer": "ipython3",
   "version": "3.12.4"
  }
 },
 "nbformat": 4,
 "nbformat_minor": 5
}
